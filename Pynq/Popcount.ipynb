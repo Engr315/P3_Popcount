{
 "cells": [
  {
   "cell_type": "markdown",
   "metadata": {
    "slideshow": {
     "slide_type": "fragment"
    }
   },
   "source": [
    "##  Popcount - Python MMIO\n",
    "\n",
    "Version: 2022.0\n",
    " "
   ]
  },
  {
   "cell_type": "code",
   "execution_count": null,
   "metadata": {},
   "outputs": [],
   "source": [
    "import importlib\n",
    "import numpy as np\n",
    "import timeit as tt"
   ]
  },
  {
   "cell_type": "code",
   "execution_count": null,
   "metadata": {},
   "outputs": [],
   "source": [
    "class SoftwarePopcount():\n",
    "    \n",
    "    def name(self):\n",
    "        return \"Software_Popcount\"\n",
    "    \n",
    "    def countInt(self, n):        \n",
    "        w = 0\n",
    "        while (n):\n",
    "            w += 1\n",
    "            n &= n - 1\n",
    "        return w\n",
    "         \n",
    "    def countArray (self, buf):\n",
    "        total_ones = 0\n",
    "        for b in buf:\n",
    "            total_ones += self.countInt(b)\n",
    "        return total_ones\n",
    "        \n",
    "    def countFile(self,file):\n",
    "        f = open(file, \"r\")\n",
    "        buf = np.fromfile(f, dtype=np.uint32)\n",
    "        return self.countArray(buf)      \n",
    "    "
   ]
  },
  {
   "cell_type": "code",
   "execution_count": 1,
   "metadata": {},
   "outputs": [
    {
     "ename": "ModuleNotFoundError",
     "evalue": "No module named 'pynq'",
     "output_type": "error",
     "traceback": [
      "\u001b[0;31m---------------------------------------------------------------------------\u001b[0m",
      "\u001b[0;31mModuleNotFoundError\u001b[0m                       Traceback (most recent call last)",
      "Input \u001b[0;32mIn [1]\u001b[0m, in \u001b[0;36m<module>\u001b[0;34m\u001b[0m\n\u001b[1;32m      1\u001b[0m \u001b[38;5;28;01mimport\u001b[39;00m \u001b[38;5;21;01mnumpy\u001b[39;00m \u001b[38;5;28;01mas\u001b[39;00m \u001b[38;5;21;01mnp\u001b[39;00m\n\u001b[0;32m----> 3\u001b[0m \u001b[38;5;28;01mfrom\u001b[39;00m \u001b[38;5;21;01mpynq\u001b[39;00m \u001b[38;5;28;01mimport\u001b[39;00m Overlay\n\u001b[1;32m      4\u001b[0m \u001b[38;5;28;01mfrom\u001b[39;00m \u001b[38;5;21;01mpynq\u001b[39;00m \u001b[38;5;28;01mimport\u001b[39;00m MMIO\n\u001b[1;32m      6\u001b[0m \u001b[38;5;28;01mclass\u001b[39;00m \u001b[38;5;21;01mHardwarePopcount\u001b[39;00m():\n",
      "\u001b[0;31mModuleNotFoundError\u001b[0m: No module named 'pynq'"
     ]
    }
   ],
   "source": [
    "import numpy as np\n",
    "\n",
    "from pynq import Overlay\n",
    "from pynq import MMIO\n",
    "\n",
    "class HardwarePopcount():\n",
    "    \n",
    "    def __init__(self):\n",
    "        self.overlay = Overlay('bitstream.bit')        \n",
    "        self.mmio = self.overlay.axi_popcount_0.S_AXI_LITE        \n",
    "\n",
    "    def name(self):\n",
    "        return \"Hardware_Popcount\"\n",
    "    \n",
    "    def countInt(self, n): \n",
    "        self.mmio.write(0x0, 0x1) # reset hw count\n",
    "        self.mmio.write(0x4, int(n))\n",
    "        return self.mmio.read(0x4) # read hw count\n",
    "    \n",
    "    def countArray (self, buf):\n",
    "        self.mmio.write(0x0, 0x1) # reset hw count\n",
    "        for b in buf:\n",
    "            self.mmio.write(0x4, int(b))\n",
    "        return self.mmio.read(0x4) # read hw count\n",
    "            \n",
    "    def countFile(self,file):\n",
    "        f = open(file, \"r\")\n",
    "        buf = np.fromfile(f, dtype=np.uint32)\n",
    "        return self.countArray(buf) "
   ]
  },
  {
   "cell_type": "code",
   "execution_count": null,
   "metadata": {},
   "outputs": [],
   "source": [
    "\n",
    "for counter in [ SoftwarePopcount(), HardwarePopcount()]:\n",
    "    print ()\n",
    "    print (\"Testing Counter: \" + str(counter.name()))\n",
    "    print ()\n",
    "    for i in range(17):\n",
    "        print ('value:' + str(i) + ' total_ones:' + str(counter.countInt(i)))\n",
    "\n",
    "    x = list(range(17))\n",
    "    print ('Array: ' + str(list(x)) + '\\n Total Ones: ' + str(counter.countArray(x)))"
   ]
  },
  {
   "cell_type": "code",
   "execution_count": null,
   "metadata": {},
   "outputs": [],
   "source": [
    "sw_counter = SoftwarePopcount()\n",
    "\n",
    "def count_zeros_sw():\n",
    "    print (\"Found \" + str(sw_counter.countFile(\"zeros.bin\")) + \" Ones\")\n",
    "def count_ones_sw():\n",
    "    print (\"Found \" + str(sw_counter.countFile(\"ones.bin\")) + \" Ones\")\n",
    "def count_tiny_sw():\n",
    "    print (\"Found \" + str(sw_counter.countFile(\"tiny.bin\")) + \" Ones\")\n",
    "def count_small_sw():\n",
    "    print (\"Found \" + str(sw_counter.countFile(\"small.bin\")) + \" Ones\")\n",
    "def count_medium_sw():\n",
    "    print (\"Found \" + str(sw_counter.countFile(\"medium.bin\")) + \" Ones\")\n",
    "def count_large_sw():\n",
    "    print (\"Found \" + str(sw_counter.countFile(\"large.bin\")) + \" Ones\")"
   ]
  },
  {
   "cell_type": "code",
   "execution_count": null,
   "metadata": {},
   "outputs": [],
   "source": [
    "# 'ones.bin' contains 256B of all binary 1's\n",
    "print(\"Timing 'ones.bin'\")\n",
    "time = tt.timeit(count_ones_sw, number=1)\n",
    "print(\"Total Time:\" + str(time) + \" seconds\")\n",
    "print()\n",
    "\n",
    "# 'zeros.bin' contains 256B of all binary 0's\n",
    "print(\"Timing 'zeros.bin'\")\n",
    "time = tt.timeit(count_zeros_sw, number=1)\n",
    "print(\"Total Time:\" + str(time) + \" seconds\")\n",
    "print()\n",
    "\n",
    "# 'tiny.bin' contains 256B of random 1's\n",
    "print(\"Timing 'tiny.bin'\")\n",
    "time = tt.timeit(count_tiny_sw, number=1)\n",
    "print(\"Total Time:\" + str(time) + \" seconds\")\n",
    "print()\n",
    "\n",
    "# 'small.bin' contains 4KB of random 1's\n",
    "print(\"Timing 'small.bin'\")\n",
    "time = tt.timeit(count_small_sw, number=1)\n",
    "print(\"Total Time:\" + str(time) + \" seconds\")\n",
    "print()\n",
    "\n",
    "# 'medium.bin' contains 1M of random 1's\n",
    "print(\"Timing 'medium.bin'\")\n",
    "time = tt.timeit(count_medium_sw, number=1)\n",
    "print(\"Total Time:\" + str(time) + \" seconds\")\n",
    "print()\n",
    "\n",
    "### you don't really want to do this \n",
    "### unless you have a lot of free time...\n",
    "### 'large.bin' contains 10M of random 1's\n",
    "#print(\"Timing 'large.bin'\")\n",
    "#time = tt.timeit(count_large_sw, number=1)\n",
    "#print(\"Total Time:\" + str(time) + \" seconds\")\n",
    "#print()"
   ]
  },
  {
   "cell_type": "code",
   "execution_count": null,
   "metadata": {},
   "outputs": [],
   "source": [
    "hw_counter = HardwarePopcount()\n",
    "\n",
    "\n",
    "def count_ones_hw():\n",
    "    print (\"Found \" + str(hw_counter.countFile(\"ones.bin\")) + \" Ones\")  \n",
    "def count_zeros_hw():\n",
    "    print (\"Found \" + str(hw_counter.countFile(\"zeros.bin\")) + \" Ones\")  \n",
    "def count_tiny_hw():\n",
    "    print (\"Found \" + str(hw_counter.countFile(\"tiny.bin\")) + \" Ones\")    \n",
    "def count_small_hw():\n",
    "    print (\"Found \" + str(hw_counter.countFile(\"small.bin\")) + \" Ones\")\n",
    "def count_medium_hw():\n",
    "    print (\"Found \" + str(hw_counter.countFile(\"medium.bin\")) + \" Ones\")\n",
    "def count_large_hw():\n",
    "    print (\"Found \" + str(hw_counter.countFile(\"large.bin\")) + \" Ones\")"
   ]
  },
  {
   "cell_type": "code",
   "execution_count": null,
   "metadata": {},
   "outputs": [],
   "source": [
    "# 'ones.bin' contains 256B of all binary 1's\n",
    "print(\"Timing 'ones.bin'\")\n",
    "time = tt.timeit(count_ones_hw, number=1)\n",
    "print(\"Total Time:\" + str(time) + \" seconds\")\n",
    "print()\n",
    "\n",
    "# 'zeros.bin' contains 256B of all binary 0's\n",
    "print(\"Timing 'zeros.bin'\")\n",
    "time = tt.timeit(count_zeros_hw, number=1)\n",
    "print(\"Total Time:\" + str(time) + \" seconds\")\n",
    "print()\n",
    "\n",
    "# 'tiny.bin' contains 256B of random 1's\n",
    "print(\"Timing 'tiny.bin'\")\n",
    "time = tt.timeit(count_tiny_hw, number=1)\n",
    "print(\"Total Time:\" + str(time) + \" seconds\")\n",
    "print()\n",
    "\n",
    "# 'small.bin' contains 4KB of random 1's\n",
    "print(\"Timing 'small.bin'\")\n",
    "time = tt.timeit(count_small_hw, number=1)\n",
    "print(\"Total Time:\" + str(time) + \" seconds\")\n",
    "print()\n",
    "\n",
    "# 'medium.bin' contains 1M of random 1's\n",
    "print(\"Timing 'medium.bin'\")\n",
    "time = tt.timeit(count_medium_hw, number=1)\n",
    "print(\"Total Time:\" + str(time) + \" seconds\")\n",
    "print()\n",
    "\n",
    "### This runs fine in HW\n",
    "# 'large.bin' contains 10M of random 1's\n",
    "print(\"Timing 'large.bin'\")\n",
    "time = tt.timeit(count_large_hw, number=1)\n",
    "print(\"Total Time:\" + str(time) + \" seconds\")\n",
    "print()"
   ]
  },
  {
   "cell_type": "code",
   "execution_count": null,
   "metadata": {},
   "outputs": [],
   "source": []
  }
 ],
 "metadata": {
  "kernelspec": {
   "display_name": "Python 3 (ipykernel)",
   "language": "python",
   "name": "python3"
  },
  "language_info": {
   "codemirror_mode": {
    "name": "ipython",
    "version": 3
   },
   "file_extension": ".py",
   "mimetype": "text/x-python",
   "name": "python",
   "nbconvert_exporter": "python",
   "pygments_lexer": "ipython3",
   "version": "3.9.9"
  }
 },
 "nbformat": 4,
 "nbformat_minor": 2
}
